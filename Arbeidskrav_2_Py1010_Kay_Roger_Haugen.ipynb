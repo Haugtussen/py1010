{
 "cells": [
  {
   "cell_type": "markdown",
   "id": "b167c867-0725-4821-98a4-546401882726",
   "metadata": {},
   "source": [
    "# Arbeidskrav nr.2 i Py1010\n",
    "\n",
    "<u>Laga av</u>: Kay Roger Haugen - kay.roger.haugen@gmail.com\n",
    "\n",
    "<u>Sist oppdatert</u>: 2025-01-14\n",
    "\n",
    "***"
   ]
  },
  {
   "cell_type": "markdown",
   "id": "e3c8ff37-5ff0-49c9-a6b0-219d27daa460",
   "metadata": {},
   "source": [
    "<div style=\"background-color: #f0e4cc\">\n",
    "\n",
    "## Oppgåve nr.1\n",
    "\n",
    "1. Få input på fødselsår.\n",
    "2. Rekn ut alder i løpet av 2024.\n",
    "3. Skriv resultatet til skjerm.\n",
    "\n",
    "</div>"
   ]
  },
  {
   "cell_type": "code",
   "execution_count": 10,
   "id": "bca9b750-c48f-4ed3-9324-1473f59f71a3",
   "metadata": {},
   "outputs": [
    {
     "name": "stdin",
     "output_type": "stream",
     "text": [
      "Kva år er du fødd? 1980\n"
     ]
    },
    {
     "name": "stdout",
     "output_type": "stream",
     "text": [
      "Du er i løpet av 2025 blitt 45 år :)\n"
     ]
    }
   ],
   "source": [
    "import datetime as dt\n",
    "\n",
    "# Få input på fødselsår\n",
    "alder = int(input('Kva år er du fødd?'))\n",
    "\n",
    "# Årets årstal\n",
    "dette_aar = dt.datetime.today().year\n",
    "\n",
    "# Utrekning av alder i (dette) år\n",
    "alder_dette_aar = dette_aar - alder\n",
    "\n",
    "# Utskrift til skjerm\n",
    "print('Du er i løpet av', dette_aar, 'blitt', alder_dette_aar, 'år :)')"
   ]
  },
  {
   "cell_type": "markdown",
   "id": "1fd76de0-4719-42ca-9956-57b348b5e2b5",
   "metadata": {},
   "source": [
    "***\n",
    "<div style=\"background-color: #f0e4cc\">\n",
    "\n",
    "## Oppgåve nr.2\n",
    "\n",
    "1. Få input på tal elevar.\n",
    "2. Rekn ut kor mange pizza som trengs.\n",
    "3. Skriv resultatet til skjerm.\n",
    "\n",
    "</div>"
   ]
  },
  {
   "cell_type": "code",
   "execution_count": 9,
   "id": "9a60df27-62fa-4256-9d2b-dc4e7a92b6a4",
   "metadata": {},
   "outputs": [
    {
     "name": "stdin",
     "output_type": "stream",
     "text": [
      "Skriv inn talet på elevar: 9\n"
     ]
    },
    {
     "name": "stdout",
     "output_type": "stream",
     "text": [
      "Viss det er 9 elevar som skal på festen må det handlast inn 3 pizza.\n"
     ]
    }
   ],
   "source": [
    "import math\n",
    "\n",
    "# Få input på elevtal\n",
    "antall_elevar = int(input('Skriv inn talet på elevar:'))\n",
    "\n",
    "# Kvar elev et 1/4 pizza. Reknar ut kor mange pizza som trengs, avrunda oppover til næraste heiltal\n",
    "ant_pizza = int(math.ceil(antall_elevar / 4))\n",
    "\n",
    "# Utskrift til skjerm\n",
    "print('Viss det er', antall_elevar, 'elevar som skal på festen må det handlast inn', ant_pizza, 'pizza.')"
   ]
  },
  {
   "cell_type": "markdown",
   "id": "c961036b-e0a5-4c81-9bde-2cf3a308ce2c",
   "metadata": {},
   "source": [
    "***\n",
    "<div style=\"background-color: #f0e4cc\">\n",
    "    \n",
    "## Oppgåve nr.3\n",
    "\n",
    "1. Få input på eit tal i grader.\n",
    "2. Rekn ut vinkelen i radianar.\n",
    "3. Skriv resultatet til skjerm.\n",
    "\n",
    "</div>"
   ]
  },
  {
   "cell_type": "code",
   "execution_count": 8,
   "id": "5d80f651-f0d8-49f5-916a-74633291c015",
   "metadata": {},
   "outputs": [
    {
     "name": "stdin",
     "output_type": "stream",
     "text": [
      "Skriv inn gradtalet: 30\n"
     ]
    },
    {
     "name": "stdout",
     "output_type": "stream",
     "text": [
      "Gradtalet 30.0 tilsvarar 0.52 radianar.\n"
     ]
    }
   ],
   "source": [
    "import numpy as np\n",
    "\n",
    "# Få input på vinkelen i grader\n",
    "v_grad = float(input('Skriv inn gradtalet:'))\n",
    "\n",
    "# Reknar ut vinkelen i radianar\n",
    "v_rad = v_grad*np.pi/180\n",
    "\n",
    "# Utskrift til skjerm\n",
    "print(f'Gradtalet {v_grad} tilsvarar {v_rad:.2f} radianar.')"
   ]
  },
  {
   "cell_type": "markdown",
   "id": "6b94966f-770a-4bab-9f40-f28266e07a97",
   "metadata": {},
   "source": [
    "***\n",
    "<div style=\"background-color: #f0e4cc\">\n",
    "\n",
    "## Oppgåve nr.4a\n",
    "\n",
    "1. Opprett ein dictionary med land som nøkkel og info om hovudstad og innbyggjartal.\n",
    "\n",
    "</div>"
   ]
  },
  {
   "cell_type": "code",
   "execution_count": 5,
   "id": "c5d73912-dc4f-4d78-9aa6-ed01704ae52a",
   "metadata": {},
   "outputs": [],
   "source": [
    "# Opprettar dictionary med land som nøkkel og info om hovudstad og innbyggjartal [mill.]\n",
    "data = {\n",
    "        'Norge': ['Oslo', 0.634],\n",
    "        'England': ['London', 8.982],\n",
    "        'Frankrike': ['Paris', 2.161],\n",
    "        'Italia': ['Roma', 2.873]\n",
    "       }"
   ]
  },
  {
   "cell_type": "markdown",
   "id": "91556ec3-017e-47ee-a9cb-22da6ca1ae95",
   "metadata": {},
   "source": [
    "***\n",
    "<div style=\"background-color: #f0e4cc\">\n",
    "    \n",
    "## Oppgåve nr.4b\n",
    "\n",
    "1. Få input på eit land.\n",
    "2. Skriv ut hovudstad og innbyggjartal til skjerm.\n",
    "\n",
    "</div>"
   ]
  },
  {
   "cell_type": "code",
   "execution_count": 6,
   "id": "52d1a8b7-22fb-45ea-a229-dfc1350ed85d",
   "metadata": {},
   "outputs": [
    {
     "name": "stdin",
     "output_type": "stream",
     "text": [
      "Oppgi namnet på eit av dei fire landa: England\n"
     ]
    },
    {
     "name": "stdout",
     "output_type": "stream",
     "text": [
      "London er hovudstaden i England og det er 8.982 mill. innbyggjarar i London\n"
     ]
    }
   ],
   "source": [
    "# Få input på eit av landa\n",
    "land = input('Oppgi namnet på eit av dei fire landa:')\n",
    "\n",
    "hovudstad = data.get(land)[0]  # Hentar hovudstaden\n",
    "innb_tal = data.get(land)[1]  # Hentar innbyggjartalet\n",
    "\n",
    "# Utskrift til skjerm\n",
    "print(hovudstad, 'er hovudstaden i', land, 'og det er', innb_tal, 'mill. innbyggjarar i', hovudstad)"
   ]
  },
  {
   "cell_type": "markdown",
   "id": "cfe8b6fd-e07e-42f1-8af4-fa0662485e3a",
   "metadata": {},
   "source": [
    "***\n",
    "<div style=\"background-color: #f0e4cc\">\n",
    "\n",
    "## Oppgåve nr.4c\n",
    "\n",
    "1. Få input på eit land som ikkje fins i dictionary frå før.\n",
    "2. Få input på hovudstad.\n",
    "3. Få input på innbyggjartal for det \"nye\" landet.\n",
    "4. Utvid/oppdater dictionary med den nye informasjonen.\n",
    "5. Skriv dictionary til skjerm.\n",
    "\n",
    "</div>"
   ]
  },
  {
   "cell_type": "code",
   "execution_count": 7,
   "id": "7d3181dd-feff-4e3d-97fb-7a40a5e590be",
   "metadata": {},
   "outputs": [
    {
     "name": "stdin",
     "output_type": "stream",
     "text": [
      "Oppgi et nytt land: Island\n",
      "Oppgi hovudstaden til Island: Reykjavik\n",
      "Oppgi innbyggjartalet til Island [mill.]: 0.396\n"
     ]
    },
    {
     "name": "stdout",
     "output_type": "stream",
     "text": [
      "\n",
      "Her er utskrift av alle data i dictionary: {'Norge': ['Oslo', 0.634], 'England': ['London', 8.982], 'Frankrike': ['Paris', 2.161], 'Italia': ['Roma', 2.873], 'Island': ['Reykjavik', 0.396]}\n"
     ]
    }
   ],
   "source": [
    "# Få input på eit nytt land, samt hovudstaden og innbyggjartalet til landet.\n",
    "ny_land = input('Oppgi et nytt land:')\n",
    "txt_hovudstad = 'Oppgi hovudstaden til ' + ny_land + ':' \n",
    "ny_hovudstad = input(txt_hovudstad)\n",
    "txt_innb_tal = 'Oppgi innbyggjartalet til ' + ny_land + ' [mill.]:'\n",
    "ny_innb_tal = float(input(txt_innb_tal))\n",
    "\n",
    "# Oppdater dictionary med ny informasjon om land, hovudstad og innbyggjartal\n",
    "data.update({ny_land: [ny_hovudstad, ny_innb_tal]})\n",
    "\n",
    "# Utskrift av heile dictionary til skjerm\n",
    "print('\\nHer er utskrift av alle data i dictionary:', data)\n"
   ]
  },
  {
   "cell_type": "markdown",
   "id": "5fdfbb73-d0e2-4752-b477-10f8786b8c0d",
   "metadata": {},
   "source": [
    "***\n",
    "<div style=\"background-color: #f0e4cc\">\n",
    "\n",
    "## Oppgåve nr.5\n",
    "\n",
    "1. Lag en funksjon som tek a og b som inn-argument, reknar ut arealet og \"ytre\" omkrets til figuren, og returnerer dei utrekna verdiane.\n",
    "2. Få input frå brukaren på a og b.\n",
    "3. Skriv resultatet til skjerm.\n",
    "\n",
    "</div>"
   ]
  },
  {
   "cell_type": "code",
   "execution_count": 2,
   "id": "266f11bf-c976-4c2d-9671-665958806a5d",
   "metadata": {},
   "outputs": [
    {
     "name": "stdin",
     "output_type": "stream",
     "text": [
      "Oppgi lengda på side a (lille katet i trekant / diameter i sirkel: 3\n",
      "Oppgi lengda på side b (store katet i trekant): 10\n"
     ]
    },
    {
     "name": "stdout",
     "output_type": "stream",
     "text": [
      "\n",
      "Arealet til figuren er 18.53\n",
      "Omkretsen til figuren er 25.15\n"
     ]
    }
   ],
   "source": [
    "import math\n",
    "\n",
    "def areal_omkrets(a, b):\n",
    "    '''\n",
    "    Reknar ut arealet og ytre omkrets av ein kombinert trekant og ein halvsirkel på trekanten sin lille katet.\n",
    "    Argumentet a er lengda på lille katet og sirkelen sin diameter. Argumentet b er lengda på trekanten sin store katet.\n",
    "    Resultatet er en tuppel beståande av samla areal og omkrets.\n",
    "    '''\n",
    "    areal_sirkeldel = math.pi*(a/2)**2 / 2  # Areal av sirkeldelen\n",
    "    areal_trekantdel = a*b / 2  # Areal av trekantdelen\n",
    "    omkrets_sirkeldel = math.pi*(a/2)  # Omkrets av sirkeldelen\n",
    "    omkrets_trekantdel = b + math.sqrt(a**2 + b**2)  # Omkrets av trekantdelen\n",
    "    \n",
    "    return {'areal': areal_sirkeldel + areal_trekantdel, 'omkrets': omkrets_sirkeldel + omkrets_trekantdel}\n",
    "\n",
    "\n",
    "# Få input på a og b\n",
    "a_input = float(input('Oppgi lengda på side a (lille katet i trekant / diameter i sirkel:'))\n",
    "b_input = float(input('Oppgi lengda på side b (store katet i trekant):'))\n",
    "\n",
    "# Kallar funksjonen for å få rekna ut arealet og omkretsen\n",
    "ar_om = areal_omkrets(a_input, b_input)\n",
    "\n",
    "# Utskrift av areal og omkrets til skjerm\n",
    "print(f'\\nArealet til figuren er {ar_om['areal']:.2f}')\n",
    "print(f'Omkretsen til figuren er {ar_om['omkrets']:.2f}')"
   ]
  },
  {
   "cell_type": "markdown",
   "id": "f86b2feb-3055-4c58-b933-c26a980d9da3",
   "metadata": {},
   "source": [
    "***\n",
    "<div style=\"background-color: #f0e4cc\">\n",
    "\n",
    "## Oppgåve nr.6\n",
    "\n",
    "1. Definer funksjonen f(x) = -x² - 5.\n",
    "2. Plott funksjonen for x på intervallet [-10,10].\n",
    "\n",
    "</div>"
   ]
  },
  {
   "cell_type": "code",
   "execution_count": 3,
   "id": "793ea86c-e042-4975-8982-9b4de08b832c",
   "metadata": {},
   "outputs": [
    {
     "data": {
      "image/png": "[encoded data removed]",
      "text/plain": [
       "<Figure size 1200x900 with 1 Axes>"
      ]
     },
     "metadata": {},
     "output_type": "display_data"
    }
   ],
   "source": [
    "import numpy as np\n",
    "import matplotlib.pyplot as plt\n",
    "\n",
    "def f(x):\n",
    "    return -x**2 - 5\n",
    "\n",
    "\n",
    "# Oppretter ein array med 200 punkt fordelt på intervallet [-10, 10]\n",
    "xa = np.linspace(-10, 10, 200)\n",
    "\n",
    "# Plottar funksjonen\n",
    "plt.close('all')\n",
    "plt.figure(1, figsize=(12,9))\n",
    "plt.plot(xa, f(xa),)\n",
    "plt.legend(labels=('f(x)',), loc=2)\n",
    "plt.title('plott av funksjonen -x² - 5')\n",
    "plt.grid()\n",
    "plt.show()"
   ]
  }
 ],
 "metadata": {
  "kernelspec": {
   "display_name": "Python 3 (ipykernel)",
   "language": "python",
   "name": "python3"
  },
  "language_info": {
   "codemirror_mode": {
    "name": "ipython",
    "version": 3
   },
   "file_extension": ".py",
   "mimetype": "text/x-python",
   "name": "python",
   "nbconvert_exporter": "python",
   "pygments_lexer": "ipython3",
   "version": "3.13.1"
  }
 },
 "nbformat": 4,
 "nbformat_minor": 5
}
