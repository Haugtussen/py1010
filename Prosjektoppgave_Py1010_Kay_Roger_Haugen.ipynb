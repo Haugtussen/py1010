{
 "cells": [
  {
   "cell_type": "markdown",
   "id": "e19eb4d5-9d71-4d86-8d19-9e06c63b3927",
   "metadata": {},
   "source": [
    "# Prosjektoppgave i Py1010\n",
    "\n",
    "<u>Laga av</u>: Kay Roger Haugen - kay.roger.haugen@gmail.com\n",
    "\n",
    "<u>Sist oppdatert</u>: 2025-03-26\n",
    "\n",
    "Eg har valt å løyse den ferdigdefinerte oppgåva \"Support dashboard\". Den går ut på å utføre diverse analyser av data som er loggført for supportavdelinga ved telefonselskapet MORSE. Alle kundehenvendingar til MORSE  blir loggført i fila \"support_uke_24.xlsx\". Den består av 4 kolonner:\n",
    "1. Vekedag hendinga fann stad\n",
    "2. Klokkeslett kunden tok kontakt med supportavdelinga\n",
    "3. Varigheit på samtala\n",
    "4. Kunden sin tilfredsheit (1-10 der 1 er svært misfornøgd og 10 er svært fornøgd)\n",
    "\n",
    "NB! Alle kodefelta må køyrast frå toppen og ned for at alt skal virke.\n",
    "\n",
    "***"
   ]
  },
  {
   "cell_type": "markdown",
   "id": "de156224-85c4-48ff-86e5-1de53653423e",
   "metadata": {},
   "source": [
    "<div style=\"background-color: #a0d2d9\">\n",
    "\n",
    "## Del A\n",
    "\n",
    "Programmet les inn excelfila og lagrar data frå dei 4 kolonnene i kvar sine arrays.\n",
    "\n",
    "</div>"
   ]
  },
  {
   "cell_type": "code",
   "execution_count": 2,
   "id": "a57bb76c-cad4-4b0e-bd6b-68e268f3bba6",
   "metadata": {},
   "outputs": [],
   "source": [
    "import pandas as pd  # Importerer pandas-pakken for å kunne jobbe med excel-filer\n",
    "import numpy as np  # Importerer numpy-pakken for å kunne jobbe med arrays\n",
    "\n",
    "fil = 'support_uke_24.xlsx'  # Namnet på excel-fila som ligg i same mappe som programmet\n",
    "data = pd.read_excel(fil)  # Les inn excel-fila\n",
    "\n",
    "u_dag = np.array(data['Ukedag'].values)  # Lagrar data frå kolonne 1 ('Ukedag') i ein array\n",
    "kl_slett = np.array(data['Klokkeslett'].values)  # Lagrar data frå kolonne 2 ('Klokkeslett') i ein array\n",
    "varighet = np.array(data['Varighet'].values)  # Lagrar data frå kolonne 3 ('Varighet') i ein array\n",
    "score = np.array(data['Tilfredshet'].values)  # Lagrar data frå kolonne 4 ('Tilfredshet') i ein array"
   ]
  },
  {
   "cell_type": "markdown",
   "id": "c7845930-fb93-453c-9625-105f8c7b8031",
   "metadata": {},
   "source": [
    "<div style=\"background-color: #a0d2d9\">\n",
    "\n",
    "## Del B\n",
    "\n",
    "Programmet finn tal henvendingar for kvar av dei 5 vekedagane og visualiserer dette i eit søylediagram.\n",
    "\n",
    "</div>"
   ]
  },
  {
   "cell_type": "code",
   "execution_count": 3,
   "id": "013e10db-313c-456c-9a39-25b69df93291",
   "metadata": {},
   "outputs": [
    {
     "data": {
      "image/png": "[encoded data removed]",
      "text/plain": [
       "<Figure size 1200x900 with 1 Axes>"
      ]
     },
     "metadata": {},
     "output_type": "display_data"
    }
   ],
   "source": [
    "import matplotlib.pyplot as plt  # Importerer pyplot-pakken for å kunne jobbe med plotting\n",
    "\n",
    "ukedager = ['Mandag', 'Tirsdag', 'Onsdag', 'Torsdag', 'Fredag']  # Definerer ei liste med vekedagane\n",
    "ant_henv = np.zeros(len(ukedager), dtype=int)  # Definerer ein array med 0-verdi av typen int for kvar vekedag\n",
    "\n",
    "for dag in u_dag:  # Går gjennom tabellen med vekedagane og hentar ut navnet på dagen for kvar rad\n",
    "    index = ukedager.index(dag)  # Finn ut kva indeks den aktuelle vekedagen har i lista 'ukedager', og dermed også i lista 'ant_henv'\n",
    "    ant_henv[index] += 1  # Oppdaterer talet på henvendingar for den aktuelle vekedagen med 1 ekstra henvending\n",
    "\n",
    "plt.close('all')  # Lukkar eventuelle eksisterande figurar\n",
    "plt.figure(num=1, figsize=(12,9))  # Opprettar ein ny figur med nummer '1' med breidde 12 og høgde 9\n",
    "plt.bar(ukedager, ant_henv, width=0.5, color='#a32f98')  # Lagar søyler som viser tal henvendingar for kvar vekedag, med oppgitt breidde og farge\n",
    "\n",
    "offset_y= 0.5  # Verdi som forskyver søyleteksten i y-retning slik at den havnar med luft over søylene\n",
    "\n",
    "# Plottar tekst over kvar søyle og sentrerer teksten\n",
    "for i in range(0, len(ukedager)):\n",
    "    plt.text(ukedager[i], ant_henv[i]+offset_y, str(ant_henv[i]), ha='center')\n",
    "\n",
    "plt.title('Tal henvendingar i veke 24')  # Legg på tittel over søylediagrammet\n",
    "plt.xlabel('Vekedag')  # Legg på label til x-aksen\n",
    "plt.ylabel('Tal henvendingar')  # Legg på label til y-aksen\n",
    "\n",
    "plt.show()  # Sikrar at plottet blir synleg"
   ]
  },
  {
   "cell_type": "markdown",
   "id": "876ed3c9-3c81-48ec-af00-180ac82a3ae9",
   "metadata": {},
   "source": [
    "<div style=\"background-color: #a0d2d9\">\n",
    "\n",
    "## Del C\n",
    "\n",
    "Programmet finn minste og lengste samtaletid som er loggført for veke 24 og skriv svaret til skjerm.<br>\n",
    "NB! Programmet sjekkar ikkje om det er fleire samtalar som har minste og kortaste samtaletid.\n",
    "\n",
    "</div>"
   ]
  },
  {
   "cell_type": "code",
   "execution_count": 4,
   "id": "058e6c8b-cd1c-46c4-aa46-5555c5a802b0",
   "metadata": {},
   "outputs": [
    {
     "name": "stdout",
     "output_type": "stream",
     "text": [
      "Minste samtaletid som er loggført i veke 24 var på 00 timar 00 minutt 59 sekund, tirsdag klokka 08:39:50\n",
      "Lengste samtaletid som er loggført i veke 24 var på 00 timar 11 minutt 28 sekund, fredag klokka 10:16:01\n"
     ]
    }
   ],
   "source": [
    "veke = '24'  # vekenummer\n",
    "min_tid_index = 0  # indeksen i arrayane frå oppgåve A der minste samtaletid ligg. Brukast for å skrive ut data frå alle arrayane til slutt.\n",
    "max_tid_index = 0  # indeksen i arrayane frå oppgåve A der lengste samtaletid ligg. Brukast for å skrive ut data frå alle arrayane til slutt.\n",
    "\n",
    "# Set minste og lengste tid til samtaletida som ligg på første rad i arrayen.\n",
    "# Fjernar teiknet ':' i teksten og gjer talet om til typen 'int' for å kunne samanlikne talverdiane.\n",
    "min_tid = max_tid = int(varighet[0].replace(':', ''))\n",
    "\n",
    "# Går gjennom alle samtalane for å finne minste og lengste verdi.\n",
    "for i in range(1, len(varighet)):\n",
    "    tid = int(varighet[i].replace(':', ''))  # Hentar ut neste samtaletid og konverterer teksten til 'int' utan skilleteikn\n",
    "    # Sjekkar om vi har ny minstetid og set isåfall ny verdi på både tid og indeks\n",
    "    if tid < min_tid:\n",
    "        min_tid = tid\n",
    "        min_tid_index = i\n",
    "    # Sjekkar om vi har ny makstid og set isåfall ny verdi på både tid og indeks\n",
    "    elif tid > max_tid:\n",
    "        max_tid = tid\n",
    "        max_tid_index = i\n",
    "\n",
    "# Splittar opp minste og lengste tid i ei liste med verdiar for timar, minutt og sekund\n",
    "min_tid_tms = varighet[min_tid_index].split(':')\n",
    "max_tid_tms = varighet[max_tid_index].split(':')\n",
    "\n",
    "# Utskrift der data frå fleire av arrayane blir brukt med hjelp av variablane som lagra indeksane for minste og lengste samtaletid\n",
    "print('Minste samtaletid som er loggført i veke', veke, 'var på', min_tid_tms[0], 'timar', min_tid_tms[1], 'minutt', min_tid_tms[2], 'sekund,', u_dag[min_tid_index].lower(), 'klokka', kl_slett[min_tid_index])\n",
    "print('Lengste samtaletid som er loggført i veke', veke, 'var på', max_tid_tms[0], 'timar', max_tid_tms[1], 'minutt', max_tid_tms[2], 'sekund,', u_dag[max_tid_index].lower(), 'klokka', kl_slett[max_tid_index])"
   ]
  },
  {
   "cell_type": "markdown",
   "id": "3cde6e84-7d4a-4a0f-98a6-6b6a260bf799",
   "metadata": {},
   "source": [
    "<div style=\"background-color: #a0d2d9\">\n",
    "\n",
    "## Del D\n",
    "\n",
    "Programmet reknar ut gjennomsnittleg samtaletid basert på alle henvendingar i veke 24 og skriv svaret til skjerm.\n",
    "\n",
    "</div>"
   ]
  },
  {
   "cell_type": "code",
   "execution_count": 5,
   "id": "6d36e2a9-db23-49a8-85fb-2c2a63feb881",
   "metadata": {},
   "outputs": [
    {
     "name": "stdout",
     "output_type": "stream",
     "text": [
      "Gjennomsnittleg samtaletid på alle henvendingar i veke 24 var på 0 timar 6 minutt 40 sekund\n"
     ]
    }
   ],
   "source": [
    "sum_samt_tim = 0  # Summen av tal timar før første teiknet \":\" i kvar samtale\n",
    "sum_samt_min = 0  # Summen av tal minutt mellom dei to teikna \":\" i kvar samtale\n",
    "sum_samt_sek = 0  # Summen av tal sekund etter siste teiknet \":\" i kvar samtale\n",
    "gjs_tim = 0  # Tal timar i den gjennomsnittlege samtalatida\n",
    "gjs_min = 0  # Tal minutt i den gjennomsnittlege samtalatida\n",
    "gjs_sek = 0  # Tal sekund i den gjennomsnittlege samtalatida\n",
    "ant_samtalar = len(varighet)  # Tal samtalar den aktuelle veka\n",
    "\n",
    "def sek_til_tim_min(sek_inn):\n",
    "    '''\n",
    "    Funksjonen reknar om tal sekund til tal timar, restminutt og restsekund, og returnerer desse tre verdiane.\n",
    "    '''\n",
    "    timar = sek_inn // 3600  # Heiltalsdivisjon for å rekne ut kor mange heile timar som inngår i dei totale sekunda\n",
    "    minutt = (sek_inn % 3600) // 60  # Reknar ut resterande sekund etter førre operasjon, og bruker heiltalsdivisjon for å rekne ut tal minutt i restsekunda \n",
    "    sekund = sek_inn % 60  # Brukar modulus til å rekne ut resterande sekund\n",
    "    return timar, minutt, sekund  # Returnerer dei tre utrekna verdiane\n",
    "\n",
    "def min_til_tim(min_inn):\n",
    "    '''\n",
    "    Funksjonen reknar om tal minutt til timar og restminutt, og returnerer desse to verdiane.\n",
    "    '''\n",
    "    timar = min_inn // 60  # Heiltalsdivisjon for å rekne ut kor mange heile timar som inngår i dei totale minutta\n",
    "    minutt = min_inn % 60  # Brukar modulus til å rekne ut resterande minutt\n",
    "    return timar, minutt  # Returnerer dei to utrekna verdiane\n",
    "\n",
    "# Går gjennom alle samtalane og summerer tal timar, minutt og sekund kvar for seg\n",
    "for i in range(0, ant_samtalar):\n",
    "    sam_tim, sam_min, sam_sek = varighet[i].split(':')  # Kvar samtale blir splitta på teiknet \":\" og tal timar, minutt og sekund blir lagt i ein tuppel\n",
    "    sum_samt_tim += int(sam_tim)  # Summerer tal timar\n",
    "    sum_samt_min += int(sam_min)  # Summerer tal minutt\n",
    "    sum_samt_sek += int(sam_sek)  # Summerer tal sekund\n",
    "\n",
    "tot_sek = (sum_samt_tim*3600) + (sum_samt_min*60) + sum_samt_sek  # Reknar om summen av alle samtalane sine timar, minutt og sekund til totale sekund\n",
    "gjs_tot_sek = int(tot_sek/ant_samtalar)  # Reknar ut gjennomsnittleg samtaletid i sekund for alle henvendingar den aktuelle veka\n",
    "\n",
    "konv_tim, konv_min, konv_sek = sek_til_tim_min(gjs_tot_sek)  # Brukar funksjonen for å konvertere sekunda til timar, minutt og sekund, og lagrar i tuppel\n",
    "gjs_tim += konv_tim  # Summerer timetala til den gjennomsnittlege samtaletida\n",
    "gjs_min += konv_min  # Summerer minuttala til den gjennomsnittlege samtaletida\n",
    "gjs_sek = konv_sek  # Sekundtalet til den gjennomsnittlege samtaletida\n",
    "\n",
    "konv_tim, konv_min = min_til_tim(gjs_min)  # Brukar funksjonen for å konvertere minutta til timar og minutt, og lagrar i tuppel\n",
    "gjs_tim += konv_tim  # Summerer timetala til den gjennomsnittlege samtaletida\n",
    "gjs_min = konv_min  # Summerer minuttala til den gjennomsnittlege samtaletida\n",
    "\n",
    "# Skriv ut svaret på gjennomsnittleg samtaletid den aktuelle veka\n",
    "print('Gjennomsnittleg samtaletid på alle henvendingar i veke', veke, 'var på', gjs_tim, 'timar', gjs_min, 'minutt', gjs_sek, 'sekund')"
   ]
  }
 ],
 "metadata": {
  "kernelspec": {
   "display_name": "Python 3 (ipykernel)",
   "language": "python",
   "name": "python3"
  },
  "language_info": {
   "codemirror_mode": {
    "name": "ipython",
    "version": 3
   },
   "file_extension": ".py",
   "mimetype": "text/x-python",
   "name": "python",
   "nbconvert_exporter": "python",
   "pygments_lexer": "ipython3",
   "version": "3.13.1"
  }
 },
 "nbformat": 4,
 "nbformat_minor": 5
}
