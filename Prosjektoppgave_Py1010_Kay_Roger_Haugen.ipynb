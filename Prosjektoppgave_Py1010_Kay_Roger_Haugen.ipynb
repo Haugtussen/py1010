{
 "cells": [
  {
   "cell_type": "markdown",
   "id": "e19eb4d5-9d71-4d86-8d19-9e06c63b3927",
   "metadata": {},
   "source": [
    "# Prosjektoppgave i Py1010\n",
    "\n",
    "<u>Laga av</u>: Kay Roger Haugen - kay.roger.haugen@gmail.com\n",
    "\n",
    "<u>Sist oppdatert</u>: 2025-03-26\n",
    "\n",
    "Eg har valt å løyse den ferdigdefinerte oppgåva \"Support dashboard\". Den går ut på å utføre diverse analyser av data som er loggført for supportavdelinga ved telefonselskapet MORSE. Alle kundehenvendingar til MORSE  blir loggført i fila \"support_uke_24.xlsx\". Den består av 4 kolonner:\n",
    "1. Vekedag hendinga fann stad\n",
    "2. Klokkeslett kunden tok kontakt med supportavdelinga\n",
    "3. Varigheit på samtala\n",
    "4. Kunden sin tilfredsheit (1-10 der 1 er svært misfornøgd og 10 er svært fornøgd)\n",
    "\n",
    "NB! Alle kodefelta må køyrast frå toppen og ned for at alt skal virke.\n",
    "\n",
    "***"
   ]
  },
  {
   "cell_type": "markdown",
   "id": "de156224-85c4-48ff-86e5-1de53653423e",
   "metadata": {},
   "source": [
    "<div style=\"background-color: #a0d2d9\">\n",
    "\n",
    "## Del A\n",
    "\n",
    "Programmet les inn excelfila og lagrar data frå dei 4 kolonnene i kvar sine arrays.\n",
    "\n",
    "</div>"
   ]
  },
  {
   "cell_type": "code",
   "execution_count": 2,
   "id": "a57bb76c-cad4-4b0e-bd6b-68e268f3bba6",
   "metadata": {},
   "outputs": [],
   "source": [
    "import pandas as pd  # Importerer pandas-pakken for å kunne jobbe med excel-filer\n",
    "import numpy as np  # Importerer numpy-pakken for å kunne jobbe med arrays\n",
    "\n",
    "fil = 'support_uke_24.xlsx'  # Namnet på excel-fila som ligg i same mappe som programmet\n",
    "data = pd.read_excel(fil)  # Les inn excel-fila\n",
    "\n",
    "u_dag = np.array(data['Ukedag'].values)  # Lagrar data frå kolonne 1 ('Ukedag') i ein array\n",
    "kl_slett = np.array(data['Klokkeslett'].values)  # Lagrar data frå kolonne 2 ('Klokkeslett') i ein array\n",
    "varighet = np.array(data['Varighet'].values)  # Lagrar data frå kolonne 3 ('Varighet') i ein array\n",
    "score = np.array(data['Tilfredshet'].values)  # Lagrar data frå kolonne 4 ('Tilfredshet') i ein array"
   ]
  }
 ],
 "metadata": {
  "kernelspec": {
   "display_name": "Python 3 (ipykernel)",
   "language": "python",
   "name": "python3"
  },
  "language_info": {
   "codemirror_mode": {
    "name": "ipython",
    "version": 3
   },
   "file_extension": ".py",
   "mimetype": "text/x-python",
   "name": "python",
   "nbconvert_exporter": "python",
   "pygments_lexer": "ipython3",
   "version": "3.13.1"
  }
 },
 "nbformat": 4,
 "nbformat_minor": 5
}
